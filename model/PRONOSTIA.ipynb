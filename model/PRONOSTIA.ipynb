{
 "cells": [
  {
   "cell_type": "code",
   "execution_count": 31,
   "metadata": {},
   "outputs": [],
   "source": [
    "import os\n",
    "os.environ['TF_CPP_MIN_LOG_LEVEL'] = '3' \n",
    "\n",
    "import pandas as pd\n",
    "from matplotlib import pyplot as plt\n",
    "import tensorflow as tf\n",
    "import numpy as np\n",
    "import random\n",
    "from models import create_mscnn_model\n",
    "import pickle as pk\n",
    "# https://www.mdpi.com/1424-8220/20/1/166"
   ]
  },
  {
   "cell_type": "markdown",
   "metadata": {},
   "source": [
    "## Model search"
   ]
  },
  {
   "cell_type": "code",
   "execution_count": 32,
   "metadata": {},
   "outputs": [],
   "source": [
    "# Data generator \n",
    "class PRONOSTIASequence(tf.keras.utils.Sequence):\n",
    "\n",
    "    def __init__(self, data, batches_per_epoch=1000, batch_size=32, split_channel=False):\n",
    "        self.data = data\n",
    "        self.batch_size = batch_size\n",
    "        self.batches_per_epoch = batches_per_epoch\n",
    "        self.bearings = self.data[['Condition', 'Bearing']].drop_duplicates().values\n",
    "        self.data = {}\n",
    "        self.rul_max = {}\n",
    "        self.split_channel = split_channel\n",
    "        D = data\n",
    "        for cond, bearing in self.bearings:\n",
    "            d = D[(D.Condition == cond) & (D.Bearing==bearing)]\n",
    "            self.rul_max[(cond, bearing)] = d.RUL.max()\n",
    "            self.data[(cond, bearing)] = d[['V_acc', 'H_acc', 'RUL']].values\n",
    "    def __len__(self):\n",
    "        return self.batches_per_epoch\n",
    "\n",
    "    def __getitem__(self, idx):\n",
    "        D = self.data\n",
    "        \n",
    "        if self.split_channel:\n",
    "            X = np.zeros(shape=(self.batch_size, 2, 256//2, 2))\n",
    "            Y = np.zeros(shape=(self.batch_size,))\n",
    "            for i in range(self.batch_size):\n",
    "                cond, bearing = self.bearings[random.randint(0, self.bearings.shape[0]-1)]\n",
    "                Db = self.data[(cond, bearing)]\n",
    "                L = (Db.shape[0] // 256) \n",
    "\n",
    "                k = random.randint(0, L-2) * 256\n",
    "\n",
    "                l = 256//2\n",
    "                X[i, :, :, 0] = Db[k:k+l, :2].T\n",
    "                X[i, :, :, 1] = Db[k+l:k+2*l, :2].T\n",
    "                Y[i] = Db[k+1:k+2*l, 2][-1] / self.rul_max[(cond, bearing)]   \n",
    "        else:\n",
    "            X = np.zeros(shape=(self.batch_size, 2, 256, 1))\n",
    "            Y = np.zeros(shape=(self.batch_size,))\n",
    "            for i in range(self.batch_size):\n",
    "                cond, bearing = self.bearings[random.randint(0, self.bearings.shape[0]-1)]\n",
    "                Db = self.data[(cond, bearing)]\n",
    "                L = (Db.shape[0] // 256) \n",
    "                k = random.randint(0, L-2) * 256\n",
    "                X[i, :, :, 0] = Db[k:k+256, :2].T\n",
    "                Y[i] = Db[k:k+256, 2][-1] / self.rul_max[(cond, bearing)]  \n",
    "        return X, Y\n",
    "        "
   ]
  },
  {
   "cell_type": "code",
   "execution_count": null,
   "metadata": {},
   "outputs": [],
   "source": [
    "from ray import tune\n",
    "import ray\n",
    "\n",
    "ray.shutdown()\n",
    "ray.init(num_cpus=4, num_gpus=2)\n",
    "\n",
    "\n",
    "\n",
    "def phm21_ccn(config):\n",
    "     \n",
    "\n",
    "    X_train = pd.read_csv('/home/dasolma/papers/xai/data/pronostia_train.csv')\n",
    "    X_test = pd.read_csv('/home/dasolma/papers/xai/data/pronostia_test.csv')\n",
    "    X = pd.concat((X_train,X_test), axis=0)\n",
    "    \n",
    "    \n",
    "    X.loc[:, 'V_acc'] = X.V_acc / 50\n",
    "    X.loc[:, 'H_acc'] = X.H_acc / 50\n",
    "\n",
    "    X_test = X[X.Bearing.isin([1,3,4,7])]\n",
    "    X_train = X[X.Bearing.isin([2,5,6])]\n",
    "\n",
    "    gen_train = PRONOSTIASequence(X_train)\n",
    "    gen_val = PRONOSTIASequence(X_test, batches_per_epoch=5000)\n",
    "    \n",
    "    epochs = config.pop(\"epochs\")\n",
    "    \n",
    "    base_model = create_mscnn_model((2,128,2),**config)\n",
    "\n",
    "    def pronostia_lambda_layer(x):\n",
    "        return tf.keras.backend.concatenate([x[:,:, 128:,:], \n",
    "                                             x[:,:, :128,:]], axis=-1)\n",
    "\n",
    "    raw_input = tf.keras.layers.Input((2, 256, 1))\n",
    "    x = tf.keras.layers.Lambda(pronostia_lambda_layer)(raw_input)\n",
    "    x = base_model(x)\n",
    "\n",
    "    m = tf.keras.models.Model(raw_input, x)\n",
    "    \n",
    "    from scoring import NASAScore, PHM21Score\n",
    "    m.compile(loss='mean_squared_error', optimizer=tf.keras.optimizers.Adam(lr=config['lr']), \n",
    "        metrics=[NASAScore(), PHM21Score(), tf.keras.metrics.MeanAbsoluteError(name=\"MAE\")])\n",
    " \n",
    "\n",
    "    \n",
    "    es = tf.keras.callbacks.EarlyStopping(monitor='val_loss', patience=8)\n",
    "    rlr = tf.keras.callbacks.ReduceLROnPlateau(patience=3)\n",
    "    history = m.fit(gen_train, validation_data=gen_val,\n",
    "                    batch_size=32, epochs=epochs, verbose=0,\n",
    "                   callbacks=[es, rlr])\n",
    "    history = history.history\n",
    "    tune.report(score=history['val_loss'][-1])\n",
    "    \n",
    "\n",
    "from ray.tune.suggest.bayesopt import BayesOptSearch\n",
    "from ray.tune.schedulers import ASHAScheduler\n",
    "space = {\n",
    "    \"block_size\": (1.51, 4.5),\n",
    "    \"msblocks\": (-0.51, 4.5),\n",
    "    \"nblocks\": (1.51, 4.5),\n",
    "    \"l1\": (0, 1e-3),\n",
    "    \"l2\": (0, 1e-3),\n",
    "    \"dropout\": (0, 0.9),\n",
    "    \"lr\": (1e-5, 1e-3),\n",
    "    \"fc1\": (64, 256),\n",
    "    \"conv_activation\": (-0.51, 2.5),\n",
    "    \"dense_activation\": (-0.51, 2.5),\n",
    "    \"dilation_rate\": (0.51, 10.49),\n",
    "    \"kernel_size\": (-0.51, 1.5),\n",
    "    \"f1\": (2.51, 15.5),\n",
    "    \"f2\": (2.51, 15.5),\n",
    "    \"f3\": (2.51, 15.5),\n",
    "}\n",
    "\n",
    "\n",
    "bayesopt = BayesOptSearch(space=space, mode=\"min\", metric=\"score\")\n",
    "scheduler=ASHAScheduler(metric=\"score\", mode=\"min\", max_t=3600, time_attr='training_iteration')\n",
    "\n",
    "analysis = tune.run(\n",
    "    phm21_ccn,\n",
    "    config={\n",
    "        \"epochs\": 100,\n",
    "        \"preprocess_layer\": \"pronostia\",\n",
    "    },\n",
    "    resources_per_trial={'gpu': 1},\n",
    "    num_samples=30,\n",
    "    search_alg=bayesopt,\n",
    "    log_to_file=False,\n",
    "    scheduler=scheduler\n",
    "    )\n"
   ]
  },
  {
   "cell_type": "code",
   "execution_count": null,
   "metadata": {},
   "outputs": [],
   "source": [
    "#pk.dump(analysis._checkpoints, open('tune_checkpoint_pronostia', 'wb'))"
   ]
  },
  {
   "cell_type": "markdown",
   "metadata": {},
   "source": [
    "### Train best model"
   ]
  },
  {
   "cell_type": "code",
   "execution_count": 30,
   "metadata": {},
   "outputs": [
    {
     "data": {
      "text/plain": [
       "{'epochs': 100,\n",
       " 'block_size': 1.7745925811352392,\n",
       " 'conv_activation': 0.079908415881627,\n",
       " 'dense_activation': -0.37386586037928043,\n",
       " 'dilation_rate': 3.756796701017378,\n",
       " 'dropout': 0.3498095607205338,\n",
       " 'f1': 6.034823922742907,\n",
       " 'f2': 13.275300243883562,\n",
       " 'f3': 7.144225713749725,\n",
       " 'fc1': 117.9394258599771,\n",
       " 'kernel_size': 0.5808191271480794,\n",
       " 'l1': 0.00014092422497476265,\n",
       " 'l2': 0.0008021969807540396,\n",
       " 'lr': 8.380513724297312e-05,\n",
       " 'nblocks': 4.460791940435547}"
      ]
     },
     "execution_count": 30,
     "metadata": {},
     "output_type": "execute_result"
    }
   ],
   "source": [
    "checkpoints = pk.load(open('tune_checkpoint_pronostia.pk', 'rb'))\n",
    "config = sorted(checkpoints, key=lambda c: c['last_result']['score'])[0]['config']\n",
    "config"
   ]
  },
  {
   "cell_type": "markdown",
   "metadata": {},
   "source": [
    "### Prepare data"
   ]
  },
  {
   "cell_type": "code",
   "execution_count": 12,
   "metadata": {},
   "outputs": [],
   "source": [
    "X_train = pd.read_csv('/home/dasolma/papers/xai/data/pronostia_train.csv')\n",
    "X_test = pd.read_csv('/home/dasolma/papers/xai/data/pronostia_test.csv')\n",
    "X = pd.concat((X_train,X_test), axis=0)\n",
    "\n",
    "\n",
    "X.loc[:, 'V_acc'] = X.V_acc #/ 50\n",
    "X.loc[:, 'H_acc'] = X.H_acc #/ 50\n",
    "\n",
    "X_test = X[X.Bearing.isin([1,3,4,7])]\n",
    "X_train = X[X.Bearing.isin([2,5,6])]\n",
    "\n"
   ]
  },
  {
   "cell_type": "code",
   "execution_count": 5,
   "metadata": {},
   "outputs": [
    {
     "data": {
      "text/plain": [
       "(32, 2, 256, 1)"
      ]
     },
     "execution_count": 5,
     "metadata": {},
     "output_type": "execute_result"
    }
   ],
   "source": [
    "gen_train = PRONOSTIASequence(X_train, split_channel=False)\n",
    "gen_val = PRONOSTIASequence(X_test, batches_per_epoch=625, batch_size=256, split_channel=False)\n",
    "gen_train.__getitem__(0)[0].shape"
   ]
  },
  {
   "cell_type": "code",
   "execution_count": 6,
   "metadata": {},
   "outputs": [],
   "source": [
    "epochs = config.pop('epochs')"
   ]
  },
  {
   "cell_type": "code",
   "execution_count": 9,
   "metadata": {},
   "outputs": [
    {
     "name": "stdout",
     "output_type": "stream",
     "text": [
      "Epoch 1/100\n",
      "1000/1000 [==============================] - 39s 39ms/step - loss: 12.2850 - NASA_score: 0.0312 - Score: 0.2215 - MAE: 0.3244 - val_loss: 10.9125 - val_NASA_score: 0.0309 - val_Score: 0.1967 - val_MAE: 0.3077 - lr: 8.3805e-05\n",
      "Epoch 2/100\n",
      "1000/1000 [==============================] - 38s 38ms/step - loss: 9.4260 - NASA_score: 0.0203 - Score: 0.1460 - MAE: 0.2231 - val_loss: 7.8858 - val_NASA_score: 0.0210 - val_Score: 0.1409 - val_MAE: 0.2186 - lr: 8.3805e-05\n",
      "Epoch 3/100\n",
      "1000/1000 [==============================] - 38s 38ms/step - loss: 6.2708 - NASA_score: 0.0181 - Score: 0.1313 - MAE: 0.2009 - val_loss: 4.7088 - val_NASA_score: 0.0209 - val_Score: 0.1385 - val_MAE: 0.2168 - lr: 8.3805e-05\n",
      "Epoch 4/100\n",
      "1000/1000 [==============================] - 39s 39ms/step - loss: 3.3356 - NASA_score: 0.0173 - Score: 0.1264 - MAE: 0.1924 - val_loss: 2.1561 - val_NASA_score: 0.0198 - val_Score: 0.1323 - val_MAE: 0.2071 - lr: 8.3805e-05\n",
      "Epoch 5/100\n",
      "1000/1000 [==============================] - 39s 39ms/step - loss: 1.4054 - NASA_score: 0.0166 - Score: 0.1214 - MAE: 0.1847 - val_loss: 0.8477 - val_NASA_score: 0.0175 - val_Score: 0.1250 - val_MAE: 0.1935 - lr: 8.3805e-05\n",
      "Epoch 6/100\n",
      "1000/1000 [==============================] - 39s 39ms/step - loss: 0.5824 - NASA_score: 0.0161 - Score: 0.1179 - MAE: 0.1793 - val_loss: 0.4050 - val_NASA_score: 0.0174 - val_Score: 0.1191 - val_MAE: 0.1872 - lr: 8.3805e-05\n",
      "Epoch 7/100\n",
      "1000/1000 [==============================] - 39s 39ms/step - loss: 0.2989 - NASA_score: 0.0153 - Score: 0.1118 - MAE: 0.1702 - val_loss: 0.2325 - val_NASA_score: 0.0158 - val_Score: 0.1132 - val_MAE: 0.1747 - lr: 8.3805e-05\n",
      "Epoch 8/100\n",
      "1000/1000 [==============================] - 39s 39ms/step - loss: 0.1916 - NASA_score: 0.0148 - Score: 0.1089 - MAE: 0.1650 - val_loss: 0.1686 - val_NASA_score: 0.0150 - val_Score: 0.1172 - val_MAE: 0.1727 - lr: 8.3805e-05\n",
      "Epoch 9/100\n",
      "1000/1000 [==============================] - 39s 39ms/step - loss: 0.1414 - NASA_score: 0.0145 - Score: 0.1071 - MAE: 0.1617 - val_loss: 0.1343 - val_NASA_score: 0.0170 - val_Score: 0.1165 - val_MAE: 0.1824 - lr: 8.3805e-05\n",
      "Epoch 10/100\n",
      "1000/1000 [==============================] - 39s 39ms/step - loss: 0.1136 - NASA_score: 0.0144 - Score: 0.1067 - MAE: 0.1610 - val_loss: 0.1135 - val_NASA_score: 0.0154 - val_Score: 0.1193 - val_MAE: 0.1734 - lr: 8.3805e-05\n",
      "Epoch 11/100\n",
      "1000/1000 [==============================] - 39s 39ms/step - loss: 0.0967 - NASA_score: 0.0143 - Score: 0.1054 - MAE: 0.1593 - val_loss: 0.0984 - val_NASA_score: 0.0165 - val_Score: 0.1171 - val_MAE: 0.1776 - lr: 8.3805e-05\n",
      "Epoch 12/100\n",
      "1000/1000 [==============================] - 39s 39ms/step - loss: 0.0856 - NASA_score: 0.0143 - Score: 0.1057 - MAE: 0.1596 - val_loss: 0.0855 - val_NASA_score: 0.0158 - val_Score: 0.1127 - val_MAE: 0.1738 - lr: 8.3805e-05\n",
      "Epoch 13/100\n",
      "1000/1000 [==============================] - 39s 39ms/step - loss: 0.0785 - NASA_score: 0.0141 - Score: 0.1045 - MAE: 0.1573 - val_loss: 0.1153 - val_NASA_score: 0.0228 - val_Score: 0.1494 - val_MAE: 0.2305 - lr: 8.3805e-05\n",
      "Epoch 14/100\n",
      "1000/1000 [==============================] - 39s 39ms/step - loss: 0.0731 - NASA_score: 0.0140 - Score: 0.1038 - MAE: 0.1563 - val_loss: 0.0782 - val_NASA_score: 0.0165 - val_Score: 0.1154 - val_MAE: 0.1777 - lr: 8.3805e-05\n",
      "Epoch 15/100\n",
      "1000/1000 [==============================] - 39s 39ms/step - loss: 0.0677 - NASA_score: 0.0139 - Score: 0.1030 - MAE: 0.1550 - val_loss: 0.0851 - val_NASA_score: 0.0191 - val_Score: 0.1283 - val_MAE: 0.1977 - lr: 8.3805e-05\n",
      "Epoch 16/100\n",
      "1000/1000 [==============================] - 39s 39ms/step - loss: 0.0659 - NASA_score: 0.0140 - Score: 0.1037 - MAE: 0.1558 - val_loss: 0.0826 - val_NASA_score: 0.0154 - val_Score: 0.1259 - val_MAE: 0.1818 - lr: 8.3805e-05\n",
      "Epoch 17/100\n",
      "1000/1000 [==============================] - 39s 39ms/step - loss: 0.0612 - NASA_score: 0.0138 - Score: 0.1022 - MAE: 0.1537 - val_loss: 0.0691 - val_NASA_score: 0.0156 - val_Score: 0.1142 - val_MAE: 0.1730 - lr: 8.3805e-05\n",
      "Epoch 18/100\n",
      "1000/1000 [==============================] - 39s 39ms/step - loss: 0.0597 - NASA_score: 0.0138 - Score: 0.1026 - MAE: 0.1544 - val_loss: 0.0670 - val_NASA_score: 0.0155 - val_Score: 0.1134 - val_MAE: 0.1715 - lr: 8.3805e-05\n",
      "Epoch 19/100\n",
      "1000/1000 [==============================] - 39s 39ms/step - loss: 0.0577 - NASA_score: 0.0137 - Score: 0.1018 - MAE: 0.1531 - val_loss: 0.0694 - val_NASA_score: 0.0166 - val_Score: 0.1181 - val_MAE: 0.1814 - lr: 8.3805e-05\n",
      "Epoch 20/100\n",
      "1000/1000 [==============================] - 38s 38ms/step - loss: 0.0572 - NASA_score: 0.0137 - Score: 0.1017 - MAE: 0.1529 - val_loss: 0.0694 - val_NASA_score: 0.0155 - val_Score: 0.1182 - val_MAE: 0.1786 - lr: 8.3805e-05\n",
      "Epoch 21/100\n",
      "1000/1000 [==============================] - 39s 39ms/step - loss: 0.0554 - NASA_score: 0.0137 - Score: 0.1013 - MAE: 0.1525 - val_loss: 0.0660 - val_NASA_score: 0.0169 - val_Score: 0.1170 - val_MAE: 0.1792 - lr: 8.3805e-05\n",
      "Epoch 22/100\n",
      "1000/1000 [==============================] - 39s 39ms/step - loss: 0.0537 - NASA_score: 0.0135 - Score: 0.1005 - MAE: 0.1509 - val_loss: 0.0735 - val_NASA_score: 0.0151 - val_Score: 0.1244 - val_MAE: 0.1829 - lr: 8.3805e-05\n",
      "Epoch 23/100\n",
      "1000/1000 [==============================] - 38s 38ms/step - loss: 0.0538 - NASA_score: 0.0136 - Score: 0.1013 - MAE: 0.1521 - val_loss: 0.0880 - val_NASA_score: 0.0217 - val_Score: 0.1433 - val_MAE: 0.2219 - lr: 8.3805e-05\n",
      "Epoch 24/100\n",
      "1000/1000 [==============================] - 39s 39ms/step - loss: 0.0527 - NASA_score: 0.0135 - Score: 0.1004 - MAE: 0.1505 - val_loss: 0.0970 - val_NASA_score: 0.0234 - val_Score: 0.1529 - val_MAE: 0.2371 - lr: 8.3805e-05\n",
      "Epoch 25/100\n",
      "1000/1000 [==============================] - 38s 38ms/step - loss: 0.0473 - NASA_score: 0.0132 - Score: 0.0989 - MAE: 0.1478 - val_loss: 0.0591 - val_NASA_score: 0.0154 - val_Score: 0.1151 - val_MAE: 0.1740 - lr: 8.3805e-06\n",
      "Epoch 26/100\n",
      "1000/1000 [==============================] - 39s 39ms/step - loss: 0.0457 - NASA_score: 0.0131 - Score: 0.0974 - MAE: 0.1461 - val_loss: 0.0612 - val_NASA_score: 0.0153 - val_Score: 0.1180 - val_MAE: 0.1753 - lr: 8.3805e-06\n",
      "Epoch 27/100\n",
      "1000/1000 [==============================] - 39s 39ms/step - loss: 0.0453 - NASA_score: 0.0130 - Score: 0.0972 - MAE: 0.1454 - val_loss: 0.0602 - val_NASA_score: 0.0153 - val_Score: 0.1172 - val_MAE: 0.1743 - lr: 8.3805e-06\n",
      "Epoch 28/100\n",
      "1000/1000 [==============================] - 39s 39ms/step - loss: 0.0448 - NASA_score: 0.0130 - Score: 0.0970 - MAE: 0.1451 - val_loss: 0.0600 - val_NASA_score: 0.0155 - val_Score: 0.1174 - val_MAE: 0.1762 - lr: 8.3805e-06\n",
      "Epoch 29/100\n",
      "1000/1000 [==============================] - 38s 38ms/step - loss: 0.0443 - NASA_score: 0.0130 - Score: 0.0971 - MAE: 0.1450 - val_loss: 0.0598 - val_NASA_score: 0.0153 - val_Score: 0.1175 - val_MAE: 0.1751 - lr: 8.3805e-07\n",
      "Epoch 30/100\n",
      "1000/1000 [==============================] - 39s 39ms/step - loss: 0.0442 - NASA_score: 0.0130 - Score: 0.0969 - MAE: 0.1450 - val_loss: 0.0593 - val_NASA_score: 0.0153 - val_Score: 0.1170 - val_MAE: 0.1746 - lr: 8.3805e-07\n",
      "Epoch 31/100\n",
      "1000/1000 [==============================] - 38s 38ms/step - loss: 0.0442 - NASA_score: 0.0130 - Score: 0.0971 - MAE: 0.1452 - val_loss: 0.0600 - val_NASA_score: 0.0153 - val_Score: 0.1179 - val_MAE: 0.1755 - lr: 8.3805e-07\n",
      "Epoch 32/100\n",
      "1000/1000 [==============================] - 39s 39ms/step - loss: 0.0434 - NASA_score: 0.0129 - Score: 0.0959 - MAE: 0.1437 - val_loss: 0.0596 - val_NASA_score: 0.0154 - val_Score: 0.1174 - val_MAE: 0.1752 - lr: 8.3805e-08\n",
      "Epoch 33/100\n",
      "1000/1000 [==============================] - 39s 39ms/step - loss: 0.0437 - NASA_score: 0.0129 - Score: 0.0963 - MAE: 0.1436 - val_loss: 0.0593 - val_NASA_score: 0.0153 - val_Score: 0.1172 - val_MAE: 0.1748 - lr: 8.3805e-08\n"
     ]
    }
   ],
   "source": [
    "config['pooling_kernel'] = (1, 2)\n",
    "config['msblocks'] = 0\n",
    "config['kernel_size'] = 1\n",
    "config['preprocess_layer'] = 'pronostia'\n",
    "m = create_mscnn_model((2, 256, 1),**config)\n",
    "\n",
    "from scoring import *\n",
    "m.compile(loss='mean_squared_error', optimizer=tf.keras.optimizers.Adam(lr=config['lr']), \n",
    "        metrics=[NASAScore(), PHM21Score(), tf.keras.metrics.MeanAbsoluteError(name=\"MAE\")])\n",
    "    \n",
    "    \n",
    "es = tf.keras.callbacks.EarlyStopping(monitor='val_loss', patience=8)\n",
    "rlr = tf.keras.callbacks.ReduceLROnPlateau(patience=3)\n",
    "history = m.fit(gen_train, validation_data=gen_val,\n",
    "                batch_size=32, epochs=epochs, verbose=1,\n",
    "               callbacks=[es, rlr])"
   ]
  },
  {
   "cell_type": "code",
   "execution_count": 10,
   "metadata": {},
   "outputs": [],
   "source": [
    "#m.save('../data/models/pronostia/model.h5')"
   ]
  },
  {
   "cell_type": "code",
   "execution_count": 33,
   "metadata": {},
   "outputs": [],
   "source": [
    "from scoring import *\n",
    "from models import SplitTS\n",
    "m = tf.keras.models.load_model('../data/models/pronostia/model.h5', \n",
    "                                   custom_objects={'LeakyReLU': tf.keras.layers.LeakyReLU,\n",
    "                                                  'NASAScore': NASAScore,\n",
    "                                                  'SplitTS': SplitTS,\n",
    "                                                  'PHM21Score': PHM21Score})"
   ]
  },
  {
   "cell_type": "code",
   "execution_count": 35,
   "metadata": {},
   "outputs": [
    {
     "name": "stdout",
     "output_type": "stream",
     "text": [
      "Model: \"model_1\"\n",
      "_________________________________________________________________\n",
      "Layer (type)                 Output Shape              Param #   \n",
      "=================================================================\n",
      "input_2 (InputLayer)         [(None, 2, 256, 1)]       0         \n",
      "_________________________________________________________________\n",
      "split_ts_1 (SplitTS)         (None, 2, 128, 2)         0         \n",
      "_________________________________________________________________\n",
      "conv2d_8 (Conv2D)            (None, 2, 128, 64)        1344      \n",
      "_________________________________________________________________\n",
      "batch_normalization_8 (Batch (None, 2, 128, 64)        256       \n",
      "_________________________________________________________________\n",
      "activation_10 (Activation)   (None, 2, 128, 64)        0         \n",
      "_________________________________________________________________\n",
      "conv2d_9 (Conv2D)            (None, 2, 128, 64)        41024     \n",
      "_________________________________________________________________\n",
      "batch_normalization_9 (Batch (None, 2, 128, 64)        256       \n",
      "_________________________________________________________________\n",
      "activation_11 (Activation)   (None, 2, 128, 64)        0         \n",
      "_________________________________________________________________\n",
      "max_pooling2d_4 (MaxPooling2 (None, 2, 64, 64)         0         \n",
      "_________________________________________________________________\n",
      "dropout_6 (Dropout)          (None, 2, 64, 64)         0         \n",
      "_________________________________________________________________\n",
      "conv2d_10 (Conv2D)           (None, 2, 64, 128)        82048     \n",
      "_________________________________________________________________\n",
      "batch_normalization_10 (Batc (None, 2, 64, 128)        512       \n",
      "_________________________________________________________________\n",
      "activation_12 (Activation)   (None, 2, 64, 128)        0         \n",
      "_________________________________________________________________\n",
      "conv2d_11 (Conv2D)           (None, 2, 64, 128)        163968    \n",
      "_________________________________________________________________\n",
      "batch_normalization_11 (Batc (None, 2, 64, 128)        512       \n",
      "_________________________________________________________________\n",
      "activation_13 (Activation)   (None, 2, 64, 128)        0         \n",
      "_________________________________________________________________\n",
      "max_pooling2d_5 (MaxPooling2 (None, 2, 32, 128)        0         \n",
      "_________________________________________________________________\n",
      "dropout_7 (Dropout)          (None, 2, 32, 128)        0         \n",
      "_________________________________________________________________\n",
      "conv2d_12 (Conv2D)           (None, 2, 32, 256)        327936    \n",
      "_________________________________________________________________\n",
      "batch_normalization_12 (Batc (None, 2, 32, 256)        1024      \n",
      "_________________________________________________________________\n",
      "activation_14 (Activation)   (None, 2, 32, 256)        0         \n",
      "_________________________________________________________________\n",
      "conv2d_13 (Conv2D)           (None, 2, 32, 256)        655616    \n",
      "_________________________________________________________________\n",
      "batch_normalization_13 (Batc (None, 2, 32, 256)        1024      \n",
      "_________________________________________________________________\n",
      "activation_15 (Activation)   (None, 2, 32, 256)        0         \n",
      "_________________________________________________________________\n",
      "max_pooling2d_6 (MaxPooling2 (None, 2, 16, 256)        0         \n",
      "_________________________________________________________________\n",
      "dropout_8 (Dropout)          (None, 2, 16, 256)        0         \n",
      "_________________________________________________________________\n",
      "conv2d_14 (Conv2D)           (None, 2, 16, 256)        655616    \n",
      "_________________________________________________________________\n",
      "batch_normalization_14 (Batc (None, 2, 16, 256)        1024      \n",
      "_________________________________________________________________\n",
      "activation_16 (Activation)   (None, 2, 16, 256)        0         \n",
      "_________________________________________________________________\n",
      "conv2d_15 (Conv2D)           (None, 2, 16, 256)        655616    \n",
      "_________________________________________________________________\n",
      "batch_normalization_15 (Batc (None, 2, 16, 256)        1024      \n",
      "_________________________________________________________________\n",
      "activation_17 (Activation)   (None, 2, 16, 256)        0         \n",
      "_________________________________________________________________\n",
      "max_pooling2d_7 (MaxPooling2 (None, 2, 8, 256)         0         \n",
      "_________________________________________________________________\n",
      "dropout_9 (Dropout)          (None, 2, 8, 256)         0         \n",
      "_________________________________________________________________\n",
      "flatten_2 (Flatten)          (None, 4096)              0         \n",
      "_________________________________________________________________\n",
      "flatten_3 (Flatten)          (None, 4096)              0         \n",
      "_________________________________________________________________\n",
      "dense_2 (Dense)              (None, 118)               483446    \n",
      "_________________________________________________________________\n",
      "activation_18 (Activation)   (None, 118)               0         \n",
      "_________________________________________________________________\n",
      "dropout_10 (Dropout)         (None, 118)               0         \n",
      "_________________________________________________________________\n",
      "dense_3 (Dense)              (None, 128)               15232     \n",
      "_________________________________________________________________\n",
      "activation_19 (Activation)   (None, 128)               0         \n",
      "_________________________________________________________________\n",
      "dropout_11 (Dropout)         (None, 128)               0         \n",
      "_________________________________________________________________\n",
      "predictions (Dense)          (None, 1)                 129       \n",
      "=================================================================\n",
      "Total params: 3,087,607\n",
      "Trainable params: 3,084,791\n",
      "Non-trainable params: 2,816\n",
      "_________________________________________________________________\n"
     ]
    }
   ],
   "source": [
    "m.summary()"
   ]
  },
  {
   "cell_type": "markdown",
   "metadata": {},
   "source": [
    "### Select samples for XAI methods validation"
   ]
  },
  {
   "cell_type": "code",
   "execution_count": 16,
   "metadata": {},
   "outputs": [],
   "source": [
    "X, Y = gen_val.__getitem__(0)"
   ]
  },
  {
   "cell_type": "code",
   "execution_count": 17,
   "metadata": {},
   "outputs": [],
   "source": [
    "pk.dump(X, open(\"../data/models/pronostia/samples.pk\", \"wb\"))"
   ]
  },
  {
   "cell_type": "code",
   "execution_count": 18,
   "metadata": {},
   "outputs": [],
   "source": [
    "pk.dump(Y, open(\"../data/models/pronostia/targets.pk\", \"wb\"))"
   ]
  },
  {
   "cell_type": "code",
   "execution_count": null,
   "metadata": {},
   "outputs": [],
   "source": []
  }
 ],
 "metadata": {
  "kernelspec": {
   "display_name": "Python 3",
   "language": "python",
   "name": "python3"
  },
  "language_info": {
   "codemirror_mode": {
    "name": "ipython",
    "version": 3
   },
   "file_extension": ".py",
   "mimetype": "text/x-python",
   "name": "python",
   "nbconvert_exporter": "python",
   "pygments_lexer": "ipython3",
   "version": "3.7.4"
  }
 },
 "nbformat": 4,
 "nbformat_minor": 2
}
